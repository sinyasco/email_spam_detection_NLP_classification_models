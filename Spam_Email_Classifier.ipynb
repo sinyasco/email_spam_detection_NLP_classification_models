{
  "cells": [
    {
      "cell_type": "markdown",
      "metadata": {
        "id": "view-in-github",
        "colab_type": "text"
      },
      "source": [
        "<a href=\"https://colab.research.google.com/github/sinyasco/email_spam_detection_NLP_classification_models/blob/main/Spam_Email_Classifier.ipynb\" target=\"_parent\"><img src=\"https://colab.research.google.com/assets/colab-badge.svg\" alt=\"Open In Colab\"/></a>"
      ]
    },
    {
      "cell_type": "markdown",
      "source": [
        "# Importing necessary libraries"
      ],
      "metadata": {
        "id": "FEtQF86JMiGn"
      },
      "id": "FEtQF86JMiGn"
    },
    {
      "cell_type": "code",
      "source": [
        "import numpy as np\n",
        "import pandas as pd\n",
        "from sklearn.feature_extraction.text import TfidfVectorizer\n",
        "import tensorflow as tf\n",
        "from tensorflow.keras.models import Sequential\n",
        "from tensorflow.keras.layers import Dense, Dropout\n",
        "from sklearn.model_selection import train_test_split\n",
        "from sklearn.metrics import classification_report\n",
        "\n",
        "\n"
      ],
      "metadata": {
        "id": "nznzTfvPzAg4"
      },
      "id": "nznzTfvPzAg4",
      "execution_count": 80,
      "outputs": []
    },
    {
      "cell_type": "markdown",
      "source": [
        "# Dataset source : https://www.kaggle.com/datasets/mohinurabdurahimova/maildataset/"
      ],
      "metadata": {
        "id": "Qa7Zl7L-RN-5"
      },
      "id": "Qa7Zl7L-RN-5"
    },
    {
      "cell_type": "markdown",
      "source": [
        "# Data preprocessing"
      ],
      "metadata": {
        "id": "DhyxxBpnRWAZ"
      },
      "id": "DhyxxBpnRWAZ"
    },
    {
      "cell_type": "code",
      "source": [
        "df=pd.read_csv(\"mail_data.csv\")\n",
        "# print(df)\n",
        "# df.head()\n",
        "df[\"label\"]=df[\"label\"].replace({\"spam\":1,\"ham\":0})\n",
        "# print(df)\n",
        "vectorizer=TfidfVectorizer(stop_words=\"english\",max_features=1000)\n",
        "X=vectorizer.fit_transform(df[\"email_text\"])\n",
        "y=df[\"label\"]\n",
        "X_train,X_test,Y_train,Y_test=train_test_split(X,y,test_size=0.4,random_state=44)\n"
      ],
      "metadata": {
        "colab": {
          "base_uri": "https://localhost:8080/"
        },
        "id": "JBuYV-BBMpUE",
        "outputId": "148a7d56-cbc8-403b-88d7-fc98d8699af0"
      },
      "id": "JBuYV-BBMpUE",
      "execution_count": 81,
      "outputs": [
        {
          "output_type": "stream",
          "name": "stderr",
          "text": [
            "/tmp/ipython-input-2612189743.py:4: FutureWarning: Downcasting behavior in `replace` is deprecated and will be removed in a future version. To retain the old behavior, explicitly call `result.infer_objects(copy=False)`. To opt-in to the future behavior, set `pd.set_option('future.no_silent_downcasting', True)`\n",
            "  df[\"label\"]=df[\"label\"].replace({\"spam\":1,\"ham\":0})\n"
          ]
        }
      ]
    },
    {
      "cell_type": "code",
      "source": [
        "print(X_train)\n"
      ],
      "metadata": {
        "colab": {
          "base_uri": "https://localhost:8080/"
        },
        "id": "xLDcBKvfT6mp",
        "outputId": "3bed7a8a-124f-4323-fe37-bfac7e3c6a17"
      },
      "id": "xLDcBKvfT6mp",
      "execution_count": 82,
      "outputs": [
        {
          "output_type": "stream",
          "name": "stdout",
          "text": [
            "<Compressed Sparse Row sparse matrix of dtype 'float64'\n",
            "\twith 17731 stored elements and shape (3343, 1000)>\n",
            "  Coords\tValues\n",
            "  (0, 697)\t0.7798081153378303\n",
            "  (0, 361)\t0.6260186125453948\n",
            "  (1, 584)\t1.0\n",
            "  (2, 399)\t0.3125447160093787\n",
            "  (2, 411)\t0.31197856845985517\n",
            "  (2, 862)\t0.5444106345368175\n",
            "  (2, 498)\t0.37351620331891516\n",
            "  (2, 351)\t0.3964452022348302\n",
            "  (2, 233)\t0.46034669739532547\n",
            "  (3, 502)\t0.2570924002126808\n",
            "  (3, 792)\t0.25486191117234397\n",
            "  (3, 158)\t0.32879826478900437\n",
            "  (3, 323)\t0.33945239581191256\n",
            "  (3, 889)\t0.3377990493877464\n",
            "  (3, 937)\t0.6789047916238251\n",
            "  (3, 641)\t0.26569298481273623\n",
            "  (4, 644)\t1.0\n",
            "  (5, 368)\t0.2862208124705435\n",
            "  (5, 399)\t0.28464589531363915\n",
            "  (5, 448)\t0.21627696881521777\n",
            "  (5, 562)\t0.34889210933562853\n",
            "  (5, 49)\t0.41420738946896546\n",
            "  (5, 411)\t0.2841302840495252\n",
            "  (5, 771)\t0.3906880269244009\n",
            "  (5, 391)\t0.340174857106442\n",
            "  :\t:\n",
            "  (3339, 989)\t0.23894307347603064\n",
            "  (3339, 577)\t0.22674477622083722\n",
            "  (3339, 737)\t0.22507615066756412\n",
            "  (3339, 168)\t0.4943816508034984\n",
            "  (3340, 728)\t0.5081245745583662\n",
            "  (3340, 542)\t0.5719193623955882\n",
            "  (3340, 735)\t0.6439857604379955\n",
            "  (3341, 523)\t0.327794102430552\n",
            "  (3341, 513)\t0.2345495993168832\n",
            "  (3341, 370)\t0.2345495993168832\n",
            "  (3341, 409)\t0.3265992042991002\n",
            "  (3341, 203)\t0.36593916406948546\n",
            "  (3341, 417)\t0.3341778539153168\n",
            "  (3341, 666)\t0.3791981069101974\n",
            "  (3341, 608)\t0.3496116055446544\n",
            "  (3341, 844)\t0.40527912383987075\n",
            "  (3342, 364)\t0.22208489896336545\n",
            "  (3342, 358)\t0.23874363268125498\n",
            "  (3342, 479)\t0.35719954538472676\n",
            "  (3342, 420)\t0.3490243470217607\n",
            "  (3342, 876)\t0.3465572132012047\n",
            "  (3342, 737)\t0.3490243470217607\n",
            "  (3342, 272)\t0.3668687527752205\n",
            "  (3342, 477)\t0.34194266808520407\n",
            "  (3342, 852)\t0.3883721135891997\n"
          ]
        }
      ]
    },
    {
      "cell_type": "markdown",
      "source": [
        "# Building Neural Network Model"
      ],
      "metadata": {
        "id": "03QEPD4SRaaZ"
      },
      "id": "03QEPD4SRaaZ"
    },
    {
      "cell_type": "code",
      "source": [
        "nn_model = Sequential([\n",
        "    Dense(units=128, activation='relu', input_dim = X.shape[1] ),\n",
        "    Dense(units=64, activation='relu'),\n",
        "    Dense(units=1, activation='sigmoid')]\n",
        "    )\n",
        "\n",
        "nn_model.compile(optimizer='adam', loss=\"binary_crossentropy\")\n",
        "nn_model.fit(X_train,Y_train, epochs=5)\n",
        "\n"
      ],
      "metadata": {
        "colab": {
          "base_uri": "https://localhost:8080/"
        },
        "id": "b3VKZfCGRgc5",
        "outputId": "bed89a4b-d4e3-47c2-e7a1-88486e8ba822"
      },
      "id": "b3VKZfCGRgc5",
      "execution_count": 83,
      "outputs": [
        {
          "output_type": "stream",
          "name": "stderr",
          "text": [
            "/usr/local/lib/python3.12/dist-packages/keras/src/layers/core/dense.py:93: UserWarning: Do not pass an `input_shape`/`input_dim` argument to a layer. When using Sequential models, prefer using an `Input(shape)` object as the first layer in the model instead.\n",
            "  super().__init__(activity_regularizer=activity_regularizer, **kwargs)\n"
          ]
        },
        {
          "output_type": "stream",
          "name": "stdout",
          "text": [
            "Epoch 1/5\n",
            "\u001b[1m105/105\u001b[0m \u001b[32m━━━━━━━━━━━━━━━━━━━━\u001b[0m\u001b[37m\u001b[0m \u001b[1m1s\u001b[0m 4ms/step - loss: 0.4743\n",
            "Epoch 2/5\n",
            "\u001b[1m105/105\u001b[0m \u001b[32m━━━━━━━━━━━━━━━━━━━━\u001b[0m\u001b[37m\u001b[0m \u001b[1m1s\u001b[0m 4ms/step - loss: 0.1080\n",
            "Epoch 3/5\n",
            "\u001b[1m105/105\u001b[0m \u001b[32m━━━━━━━━━━━━━━━━━━━━\u001b[0m\u001b[37m\u001b[0m \u001b[1m1s\u001b[0m 4ms/step - loss: 0.0436\n",
            "Epoch 4/5\n",
            "\u001b[1m105/105\u001b[0m \u001b[32m━━━━━━━━━━━━━━━━━━━━\u001b[0m\u001b[37m\u001b[0m \u001b[1m1s\u001b[0m 6ms/step - loss: 0.0173\n",
            "Epoch 5/5\n",
            "\u001b[1m105/105\u001b[0m \u001b[32m━━━━━━━━━━━━━━━━━━━━\u001b[0m\u001b[37m\u001b[0m \u001b[1m1s\u001b[0m 7ms/step - loss: 0.0084\n"
          ]
        },
        {
          "output_type": "execute_result",
          "data": {
            "text/plain": [
              "<keras.src.callbacks.history.History at 0x7d0e6b87ec90>"
            ]
          },
          "metadata": {},
          "execution_count": 83
        }
      ]
    },
    {
      "cell_type": "markdown",
      "source": [
        "# Predictions"
      ],
      "metadata": {
        "id": "7wG9buPQYbby"
      },
      "id": "7wG9buPQYbby"
    },
    {
      "cell_type": "code",
      "source": [
        "y_predicted = nn_model.predict(X_test)\n",
        "y_predicted = (y_predicted >= 0.5).astype(int)\n",
        "y_predicted"
      ],
      "metadata": {
        "colab": {
          "base_uri": "https://localhost:8080/"
        },
        "id": "xjNQlvhCVWsq",
        "outputId": "86b14064-49c9-4c65-dfbe-9ecf93c12e96"
      },
      "id": "xjNQlvhCVWsq",
      "execution_count": 84,
      "outputs": [
        {
          "output_type": "stream",
          "name": "stdout",
          "text": [
            "\u001b[1m70/70\u001b[0m \u001b[32m━━━━━━━━━━━━━━━━━━━━\u001b[0m\u001b[37m\u001b[0m \u001b[1m0s\u001b[0m 5ms/step\n"
          ]
        },
        {
          "output_type": "execute_result",
          "data": {
            "text/plain": [
              "array([[0],\n",
              "       [0],\n",
              "       [0],\n",
              "       ...,\n",
              "       [0],\n",
              "       [0],\n",
              "       [0]])"
            ]
          },
          "metadata": {},
          "execution_count": 84
        }
      ]
    },
    {
      "cell_type": "markdown",
      "source": [
        "# Model's evaluation"
      ],
      "metadata": {
        "id": "clw9VhcgYgri"
      },
      "id": "clw9VhcgYgri"
    },
    {
      "cell_type": "code",
      "source": [
        "print(classification_report(Y_test, y_predicted))\n"
      ],
      "metadata": {
        "colab": {
          "base_uri": "https://localhost:8080/"
        },
        "id": "jOCV-UVwXdtS",
        "outputId": "a5f54979-56e6-4fb7-9741-d2deadfa4850"
      },
      "id": "jOCV-UVwXdtS",
      "execution_count": 85,
      "outputs": [
        {
          "output_type": "stream",
          "name": "stdout",
          "text": [
            "              precision    recall  f1-score   support\n",
            "\n",
            "           0       0.99      0.99      0.99      1936\n",
            "           1       0.96      0.90      0.93       293\n",
            "\n",
            "    accuracy                           0.98      2229\n",
            "   macro avg       0.97      0.95      0.96      2229\n",
            "weighted avg       0.98      0.98      0.98      2229\n",
            "\n"
          ]
        }
      ]
    }
  ],
  "metadata": {
    "kernelspec": {
      "display_name": "Python 3",
      "language": "python",
      "name": "python3"
    },
    "language_info": {
      "name": "python",
      "version": "3.12.2"
    },
    "colab": {
      "provenance": [],
      "include_colab_link": true
    }
  },
  "nbformat": 4,
  "nbformat_minor": 5
}